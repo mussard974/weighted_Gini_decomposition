{
 "cells": [
  {
   "cell_type": "markdown",
   "metadata": {},
   "source": [
    "<div align=\"center\"> \n",
    "\n",
    "# Gini Decomposition\n",
    "\n",
    "<div align=\"center\">\n",
    "\n",
    "## [S. Mussard](https://sites.google.com/view/cv-stphane-mussard/accueil \"Homepage\")\n",
    "\n",
    "</div>\n",
    "\n"
   ]
  },
  {
   "cell_type": "code",
   "execution_count": null,
   "metadata": {},
   "outputs": [],
   "source": [
    "#pip install PrettyTable torch"
   ]
  },
  {
   "cell_type": "code",
   "execution_count": null,
   "metadata": {},
   "outputs": [],
   "source": [
    "import pandas as pd\n",
    "pd.options.display.float_format = '{:.4f}'.format"
   ]
  },
  {
   "cell_type": "code",
   "execution_count": 4,
   "metadata": {},
   "outputs": [],
   "source": [
    "from Gini_decomp_weight import GiniDecomposition\n",
    "\n",
    "# Example dataset\n",
    "df = pd.DataFrame({\n",
    "    \"income\": [2000, 2500, 3000, 3500, 4000, 4500],\n",
    "    \"group\": [\"A\", \"A\", \"B\", \"B\", \"C\", \"C\"],\n",
    "    \"weight\": [1.2, 0.8, 1.0, 1.0, 0.9, 1.1]\n",
    "})"
   ]
  },
  {
   "cell_type": "code",
   "execution_count": 5,
   "metadata": {},
   "outputs": [
    {
     "name": "stdout",
     "output_type": "stream",
     "text": [
      "+-----------------------------------+-----------+\n",
      "|  Gini decomposition: 2 components |   Index   |\n",
      "+-----------------------------------+-----------+\n",
      "|      Gini within groups (Gw)      |   0.0019  |\n",
      "|     Gini between groups (Ggb)     |   0.0722  |\n",
      "|       Gini total (Gw + Ggb)       |   0.0741  |\n",
      "|        Gini total (verif.)        |   0.0741  |\n",
      "+-----------------------------------+-----------+\n",
      "+-----------------------------------+-----------+\n",
      "|  Gini decomposition: 3 components |   Index   |\n",
      "+-----------------------------------+-----------+\n",
      "|      Gini within groups (Gw)      |   0.0019  |\n",
      "|   Gini net between groups (Gnb)   |   0.0722  |\n",
      "|      Gini transvariation (Gt)     |   0.0000  |\n",
      "|     Gini total (Gw + Gnb + Gt)    |   0.0741  |\n",
      "+-----------------------------------+-----------+\n",
      "\n",
      "Matrix of between-group Gini indices G_gh:\n"
     ]
    },
    {
     "data": {
      "text/html": [
       "<style type=\"text/css\">\n",
       "#T_229a9 th.col_heading {\n",
       "  text-align: center;\n",
       "}\n",
       "</style>\n",
       "<table id=\"T_229a9\">\n",
       "  <thead>\n",
       "    <tr>\n",
       "      <th class=\"blank level0\" >&nbsp;</th>\n",
       "      <th id=\"T_229a9_level0_col0\" class=\"col_heading level0 col0\" >A</th>\n",
       "      <th id=\"T_229a9_level0_col1\" class=\"col_heading level0 col1\" >B</th>\n",
       "      <th id=\"T_229a9_level0_col2\" class=\"col_heading level0 col2\" >C</th>\n",
       "    </tr>\n",
       "  </thead>\n",
       "  <tbody>\n",
       "    <tr>\n",
       "      <th id=\"T_229a9_level0_row0\" class=\"row_heading level0 row0\" >A</th>\n",
       "      <td id=\"T_229a9_row0_col0\" class=\"data row0 col0\" >0.0000</td>\n",
       "      <td id=\"T_229a9_row0_col1\" class=\"data row0 col1\" >0.0795</td>\n",
       "      <td id=\"T_229a9_row0_col2\" class=\"data row0 col2\" >0.1915</td>\n",
       "    </tr>\n",
       "    <tr>\n",
       "      <th id=\"T_229a9_level0_row1\" class=\"row_heading level0 row1\" >B</th>\n",
       "      <td id=\"T_229a9_row1_col0\" class=\"data row1 col0\" >0.0795</td>\n",
       "      <td id=\"T_229a9_row1_col1\" class=\"data row1 col1\" >0.0000</td>\n",
       "      <td id=\"T_229a9_row1_col2\" class=\"data row1 col2\" >0.0407</td>\n",
       "    </tr>\n",
       "    <tr>\n",
       "      <th id=\"T_229a9_level0_row2\" class=\"row_heading level0 row2\" >C</th>\n",
       "      <td id=\"T_229a9_row2_col0\" class=\"data row2 col0\" >0.1915</td>\n",
       "      <td id=\"T_229a9_row2_col1\" class=\"data row2 col1\" >0.0407</td>\n",
       "      <td id=\"T_229a9_row2_col2\" class=\"data row2 col2\" >0.0000</td>\n",
       "    </tr>\n",
       "  </tbody>\n",
       "</table>\n"
      ],
      "text/plain": [
       "<pandas.io.formats.style.Styler at 0x11e2235f0>"
      ]
     },
     "metadata": {},
     "output_type": "display_data"
    },
    {
     "name": "stdout",
     "output_type": "stream",
     "text": [
      "Weighted Gini indices p^g*s^g*G_gg:\n"
     ]
    },
    {
     "data": {
      "text/html": [
       "<style type=\"text/css\">\n",
       "#T_890c5 th.col_heading {\n",
       "  text-align: center;\n",
       "}\n",
       "</style>\n",
       "<table id=\"T_890c5\">\n",
       "  <thead>\n",
       "    <tr>\n",
       "      <th class=\"blank level0\" >&nbsp;</th>\n",
       "      <th id=\"T_890c5_level0_col0\" class=\"col_heading level0 col0\" >A</th>\n",
       "      <th id=\"T_890c5_level0_col1\" class=\"col_heading level0 col1\" >B</th>\n",
       "      <th id=\"T_890c5_level0_col2\" class=\"col_heading level0 col2\" >C</th>\n",
       "    </tr>\n",
       "  </thead>\n",
       "  <tbody>\n",
       "    <tr>\n",
       "      <th id=\"T_890c5_level0_row0\" class=\"row_heading level0 row0\" >0</th>\n",
       "      <td id=\"T_890c5_row0_col0\" class=\"data row0 col0\" >0.0006</td>\n",
       "      <td id=\"T_890c5_row0_col1\" class=\"data row0 col1\" >0.0007</td>\n",
       "      <td id=\"T_890c5_row0_col2\" class=\"data row0 col2\" >0.0007</td>\n",
       "    </tr>\n",
       "  </tbody>\n",
       "</table>\n"
      ],
      "text/plain": [
       "<pandas.io.formats.style.Styler at 0x11e37b3e0>"
      ]
     },
     "metadata": {},
     "output_type": "display_data"
    },
    {
     "name": "stdout",
     "output_type": "stream",
     "text": [
      "Matrix of Distances D_gh:\n"
     ]
    },
    {
     "data": {
      "text/html": [
       "<style type=\"text/css\">\n",
       "#T_238bb th.col_heading {\n",
       "  text-align: center;\n",
       "}\n",
       "</style>\n",
       "<table id=\"T_238bb\">\n",
       "  <thead>\n",
       "    <tr>\n",
       "      <th class=\"blank level0\" >&nbsp;</th>\n",
       "      <th id=\"T_238bb_level0_col0\" class=\"col_heading level0 col0\" >A</th>\n",
       "      <th id=\"T_238bb_level0_col1\" class=\"col_heading level0 col1\" >B</th>\n",
       "      <th id=\"T_238bb_level0_col2\" class=\"col_heading level0 col2\" >C</th>\n",
       "    </tr>\n",
       "  </thead>\n",
       "  <tbody>\n",
       "    <tr>\n",
       "      <th id=\"T_238bb_level0_row0\" class=\"row_heading level0 row0\" >A</th>\n",
       "      <td id=\"T_238bb_row0_col0\" class=\"data row0 col0\" >0.0000</td>\n",
       "      <td id=\"T_238bb_row0_col1\" class=\"data row0 col1\" >1.0000</td>\n",
       "      <td id=\"T_238bb_row0_col2\" class=\"data row0 col2\" >1.0000</td>\n",
       "    </tr>\n",
       "    <tr>\n",
       "      <th id=\"T_238bb_level0_row1\" class=\"row_heading level0 row1\" >B</th>\n",
       "      <td id=\"T_238bb_row1_col0\" class=\"data row1 col0\" >1.0000</td>\n",
       "      <td id=\"T_238bb_row1_col1\" class=\"data row1 col1\" >0.0000</td>\n",
       "      <td id=\"T_238bb_row1_col2\" class=\"data row1 col2\" >1.0000</td>\n",
       "    </tr>\n",
       "    <tr>\n",
       "      <th id=\"T_238bb_level0_row2\" class=\"row_heading level0 row2\" >C</th>\n",
       "      <td id=\"T_238bb_row2_col0\" class=\"data row2 col0\" >1.0000</td>\n",
       "      <td id=\"T_238bb_row2_col1\" class=\"data row2 col1\" >1.0000</td>\n",
       "      <td id=\"T_238bb_row2_col2\" class=\"data row2 col2\" >0.0000</td>\n",
       "    </tr>\n",
       "  </tbody>\n",
       "</table>\n"
      ],
      "text/plain": [
       "<pandas.io.formats.style.Styler at 0x11e37b740>"
      ]
     },
     "metadata": {},
     "output_type": "display_data"
    },
    {
     "name": "stdout",
     "output_type": "stream",
     "text": [
      "===================================================\n",
      "                Summary Table                \n",
      "===================================================\n",
      "Groups         Means          Size           Gini                \n",
      "---------------------------------------------------\n",
      "A              0.1535         0.3333         0.0124\n",
      "B              0.3350         0.3333         0.0059\n",
      "C              0.5797         0.3333         0.0034\n",
      "\n",
      "===================================================\n"
     ]
    }
   ],
   "source": [
    "model = GiniDecomposition(alpha=2)\n",
    "model.fit(data=df, value=\"income\", group=\"group\", weight=\"weight\")\n",
    "# Show summary\n",
    "model.summary()"
   ]
  }
 ],
 "metadata": {
  "kernelspec": {
   "display_name": "Python 3",
   "language": "python",
   "name": "python3"
  },
  "language_info": {
   "codemirror_mode": {
    "name": "ipython",
    "version": 3
   },
   "file_extension": ".py",
   "mimetype": "text/x-python",
   "name": "python",
   "nbconvert_exporter": "python",
   "pygments_lexer": "ipython3",
   "version": "3.12.6"
  },
  "orig_nbformat": 4
 },
 "nbformat": 4,
 "nbformat_minor": 2
}
